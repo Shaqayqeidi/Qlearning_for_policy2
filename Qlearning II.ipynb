{
 "cells": [
  {
   "cell_type": "markdown",
   "metadata": {},
   "source": [
    "Q_learning for militray trucks"
   ]
  },
  {
   "cell_type": "code",
   "execution_count": 1,
   "metadata": {},
   "outputs": [],
   "source": [
    "import numpy as np\n",
    "import random\n",
    "from random import sample\n",
    "import math \n",
    "import matplotlib.pyplot as plt"
   ]
  },
  {
   "cell_type": "code",
   "execution_count": 2,
   "metadata": {},
   "outputs": [],
   "source": [
    "def reset1():\n",
    "    st= [0]*2\n",
    "    return tuple(st)"
   ]
  },
  {
   "cell_type": "code",
   "execution_count": 3,
   "metadata": {},
   "outputs": [],
   "source": [
    "weibull_scale=(2365.08,996.88,713.55,1406.84,343.76,3933.12,828.19,2040.95)\n",
    "weibull_shape=(414.16,109.25,79.81,115.21,169.81,143.60,43.83,296.48)\n",
    "tf=(2,6.5,2.5,6,5,3.5,3,3.5)\n",
    "tp=(0.4,5.42,0.625,0.857,1.25,0.7,0.429,0.875)\n",
    "time_interval=5\n",
    "running_time=100000"
   ]
  },
  {
   "cell_type": "code",
   "execution_count": 4,
   "metadata": {},
   "outputs": [],
   "source": [
    "def step0(action,st): \n",
    "    \n",
    "    f = random.weibullvariate(weibull_scale[0],weibull_shape[0])\n",
    "    if action == 0 :\n",
    "        if f < st[0]:\n",
    "            st[1]=1\n",
    "            st[0]=0\n",
    "        else:\n",
    "            st[1]=0 \n",
    "            st[0] +=5\n",
    "    if action ==1 :\n",
    "            st[0]=0\n",
    "            st[1]=0\n",
    "           \n",
    "    return tuple(st)\n",
    "                "
   ]
  },
  {
   "cell_type": "code",
   "execution_count": 5,
   "metadata": {},
   "outputs": [],
   "source": [
    "def rewardfun0(action,st) :\n",
    "    reward =[]\n",
    "\n",
    "    if action ==1 :\n",
    "        reward= -(time_interval / tp[0])*tp[0]    \n",
    "    if (st[1]==1 and action == 0):\n",
    "        reward= -(time_interval / tp[0])*time_interval * math.ceil(tf[0]/time_interval)\n",
    "    \n",
    "    if (st[1]==0 and action == 0):\n",
    "        reward = 5\n",
    "    return reward\n",
    "    "
   ]
  },
  {
   "cell_type": "code",
   "execution_count": 36,
   "metadata": {},
   "outputs": [],
   "source": [
    "num_episodes=1000\n",
    "min_lr=0.1 \n",
    "min_epsilon=0.1\n",
    "discount=0.9\n",
    "decay=25"
   ]
  },
  {
   "cell_type": "code",
   "execution_count": 52,
   "metadata": {},
   "outputs": [],
   "source": [
    "Q_table = np.zeros((100000 ,2) + (2,))"
   ]
  },
  {
   "cell_type": "code",
   "execution_count": 53,
   "metadata": {},
   "outputs": [],
   "source": [
    "def choose_action(epsilon, state):\n",
    "    \n",
    "    if (np.random.random() < epsilon):\n",
    "        return random.choice([0,1]) \n",
    "    else:\n",
    "        return np.argmax(Q_table[state])"
   ]
  },
  {
   "cell_type": "code",
   "execution_count": 54,
   "metadata": {},
   "outputs": [],
   "source": [
    "def get_epsilon( t):\n",
    "    \n",
    "    \"\"\"Gets value for epsilon. It declines as we advance in episodes.\"\"\"\n",
    "    # Ensures that there's almost at least a min_epsilon chance of randomly exploring\n",
    "    return max(min_epsilon, min(1., 1. - math.log10((t + 1) / decay)))\n",
    "\n",
    "def get_learning_rate( t):\n",
    "    \n",
    "    \"\"\"Gets value for learning rate. It declines as we advance in episodes.\"\"\"\n",
    "    # Learning rate also declines as we add more episodes\n",
    "    return max(min_lr, min(1., 1. - math.log10((t + 1) / decay)))\n"
   ]
  },
  {
   "cell_type": "code",
   "execution_count": 55,
   "metadata": {},
   "outputs": [],
   "source": [
    "scores = []\n",
    "# Looping for each episode\n",
    "for e in range(1000):\n",
    "    # Initializes the state\n",
    "    current_state = reset1()\n",
    "    rewards = []\n",
    "    learning_rate = get_learning_rate(e)\n",
    "    epsilon = get_epsilon(e)\n",
    "            \n",
    "            \n",
    "    # Looping for each step\n",
    "    for j in range(running_time//time_interval):\n",
    "        # Choose A from S\n",
    "        action = choose_action(epsilon,current_state)\n",
    "        # Take action\n",
    "        obs = step0(action , list(current_state))\n",
    "        reward = rewardfun0(action,current_state)\n",
    "        rewards.append(reward)\n",
    "        new_state = obs\n",
    "        # Update Q(S,A)\n",
    "        Q_table[current_state][action] += (learning_rate * \n",
    "                                        (reward \n",
    "                                         + discount * np.max(Q_table[new_state]) \n",
    "                                         - Q_table[current_state][action]))\n",
    "        current_state = new_state\n",
    "    \n",
    "    scores.append(sum(rewards))\n"
   ]
  },
  {
   "cell_type": "code",
   "execution_count": 56,
   "metadata": {},
   "outputs": [
    {
     "data": {
      "image/png": "[encoded data removed]",
      "text/plain": [
       "<Figure size 432x288 with 1 Axes>"
      ]
     },
     "metadata": {
      "needs_background": "light"
     },
     "output_type": "display_data"
    }
   ],
   "source": [
    "# Plot the policy performance\n",
    "fig = plt.figure()\n",
    "ax = fig.add_subplot(111)\n",
    "x = np.arange(1, len(scores) + 1)\n",
    "y = scores\n",
    "plt.scatter(x, y, marker='x', c=y)\n",
    "fit = np.polyfit(x, y, deg=4)\n",
    "p = np.poly1d(fit) \n",
    "plt.plot(x,p(x),\"r--\") \n",
    "plt.ylabel('Score')\n",
    "plt.xlabel('Episode #')\n",
    "plt.title(' performance ')\n",
    "plt.show()\n",
    "        "
   ]
  },
  {
   "cell_type": "markdown",
   "metadata": {},
   "source": [
    "Now, find a optimal replacement time for tire"
   ]
  },
  {
   "cell_type": "code",
   "execution_count": 57,
   "metadata": {},
   "outputs": [],
   "source": [
    "optimal =[]\n",
    "current_state = reset1()\n",
    "\n",
    "for j in range(running_time//time_interval):\n",
    "    # Choose A from S\n",
    "    action = np.argmax(Q_table[current_state])\n",
    "    if action==1:\n",
    "        optimal.append(current_state)\n",
    "    # Take action\n",
    "    obs = step0(action , list(current_state))\n",
    "    reward = rewardfun0(action,current_state)\n",
    "    current_state = obs\n",
    "    "
   ]
  },
  {
   "cell_type": "code",
   "execution_count": 59,
   "metadata": {},
   "outputs": [
    {
     "data": {
      "text/plain": [
       "460"
      ]
     },
     "execution_count": 59,
     "metadata": {},
     "output_type": "execute_result"
    }
   ],
   "source": [
    "np.unique(optimal)[1]"
   ]
  },
  {
   "cell_type": "raw",
   "metadata": {},
   "source": [
    "\n"
   ]
  },
  {
   "cell_type": "markdown",
   "metadata": {},
   "source": [
    "optimal replacement time for transmission"
   ]
  },
  {
   "cell_type": "code",
   "execution_count": 93,
   "metadata": {},
   "outputs": [],
   "source": [
    "Q_table1 = np.zeros((100000 ,2) + (2,))"
   ]
  },
  {
   "cell_type": "code",
   "execution_count": 94,
   "metadata": {},
   "outputs": [],
   "source": [
    "def step1(action,st): \n",
    "    \n",
    "    f = random.weibullvariate(weibull_scale[1],weibull_shape[1])\n",
    "    if action == 0 :\n",
    "        if f < st[0]:\n",
    "            st[1]=1\n",
    "            st[0]=0\n",
    "        else:\n",
    "            st[1]=0 \n",
    "            st[0] +=5\n",
    "    if action ==1 :\n",
    "            st[0]=0\n",
    "            st[1]=0\n",
    "           \n",
    "    return tuple(st)\n",
    "                "
   ]
  },
  {
   "cell_type": "code",
   "execution_count": 95,
   "metadata": {},
   "outputs": [],
   "source": [
    "def rewardfun1(action,st) :\n",
    "    reward =[]\n",
    "\n",
    "    if action ==1 :\n",
    "        reward= -(time_interval / tp[1])*tp[1]    \n",
    "    if (st[1]==1 and action == 0):\n",
    "        reward= -(time_interval / tp[1])*time_interval * math.ceil(tf[1]/time_interval)\n",
    "    \n",
    "    if (st[1]==0 and action == 0):\n",
    "        reward = 5\n",
    "    return reward\n",
    "    "
   ]
  },
  {
   "cell_type": "code",
   "execution_count": 96,
   "metadata": {},
   "outputs": [],
   "source": [
    "scores = []\n",
    "# Looping for each episode\n",
    "for e in range(1000):\n",
    "    # Initializes the state\n",
    "    current_state = reset1()\n",
    "    rewards = []\n",
    "    learning_rate = get_learning_rate(e)\n",
    "    epsilon = get_epsilon(e)\n",
    "            \n",
    "            \n",
    "    # Looping for each step\n",
    "    for j in range(running_time//time_interval):\n",
    "        # Choose A from S\n",
    "        action = choose_action(epsilon,current_state)\n",
    "        # Take action\n",
    "        obs = step1(action , list(current_state))\n",
    "        reward = rewardfun1(action,current_state)\n",
    "        rewards.append(reward)\n",
    "        new_state = obs\n",
    "        # Update Q(S,A)\n",
    "        Q_table1[current_state][action] += (learning_rate * \n",
    "                                        (reward \n",
    "                                         + discount * np.max(Q_table1[new_state]) \n",
    "                                         - Q_table1[current_state][action]))\n",
    "        current_state = new_state\n",
    "    \n",
    "    scores.append(sum(rewards))\n"
   ]
  },
  {
   "cell_type": "code",
   "execution_count": 97,
   "metadata": {},
   "outputs": [
    {
     "data": {
      "image/png": "[encoded data removed]",
      "text/plain": [
       "<Figure size 432x288 with 1 Axes>"
      ]
     },
     "metadata": {
      "needs_background": "light"
     },
     "output_type": "display_data"
    }
   ],
   "source": [
    "# Plot the policy performance\n",
    "fig = plt.figure()\n",
    "ax = fig.add_subplot(111)\n",
    "x = np.arange(1, len(scores) + 1)\n",
    "y = scores\n",
    "plt.scatter(x, y, marker='x', c=y)\n",
    "fit = np.polyfit(x, y, deg=4)\n",
    "p = np.poly1d(fit) \n",
    "plt.plot(x,p(x),\"r--\") \n",
    "plt.ylabel('Score')\n",
    "plt.xlabel('Episode #')\n",
    "plt.title(' performance on transmission ')\n",
    "plt.show()\n",
    "        "
   ]
  },
  {
   "cell_type": "code",
   "execution_count": 98,
   "metadata": {},
   "outputs": [],
   "source": [
    "optimal =[]\n",
    "current_state = reset1()\n",
    "\n",
    "for j in range(running_time//time_interval):\n",
    "    # Choose A from S\n",
    "    action = np.argmax(Q_table1[current_state])\n",
    "    if action==1:\n",
    "        optimal.append(current_state)\n",
    "    # Take action\n",
    "    obs = step1(action , list(current_state))\n",
    "    reward = rewardfun1(action,current_state)\n",
    "    current_state = obs\n",
    "    "
   ]
  },
  {
   "cell_type": "code",
   "execution_count": 99,
   "metadata": {},
   "outputs": [
    {
     "data": {
      "text/plain": [
       "465"
      ]
     },
     "execution_count": 99,
     "metadata": {},
     "output_type": "execute_result"
    }
   ],
   "source": [
    "np.unique(optimal)[1]"
   ]
  },
  {
   "cell_type": "raw",
   "metadata": {},
   "source": []
  },
  {
   "cell_type": "markdown",
   "metadata": {},
   "source": [
    "optimal replacement time for wheel Rim"
   ]
  },
  {
   "cell_type": "code",
   "execution_count": 100,
   "metadata": {},
   "outputs": [],
   "source": [
    "Q_table2 = np.zeros((100000 ,2) + (2,))"
   ]
  },
  {
   "cell_type": "code",
   "execution_count": 101,
   "metadata": {},
   "outputs": [],
   "source": [
    "def step2(action,st): \n",
    "    \n",
    "    f = random.weibullvariate(weibull_scale[2],weibull_shape[2])\n",
    "    if action == 0 :\n",
    "        if f < st[0]:\n",
    "            st[1]=1\n",
    "            st[0]=0\n",
    "        else:\n",
    "            st[1]=0 \n",
    "            st[0] +=5\n",
    "    if action ==1 :\n",
    "            st[0]=0\n",
    "            st[1]=0\n",
    "           \n",
    "    return tuple(st)\n",
    "                "
   ]
  },
  {
   "cell_type": "code",
   "execution_count": 102,
   "metadata": {},
   "outputs": [],
   "source": [
    "def rewardfun2(action,st) :\n",
    "    reward =[]\n",
    "\n",
    "    if action ==1 :\n",
    "        reward= -(time_interval / tp[2])*tp[2]    \n",
    "    if (st[1]==1 and action == 0):\n",
    "        reward= -(time_interval / tp[2])*time_interval * math.ceil(tf[2]/time_interval)\n",
    "    \n",
    "    if (st[1]==0 and action == 0):\n",
    "        reward = 5\n",
    "    return reward"
   ]
  },
  {
   "cell_type": "code",
   "execution_count": 103,
   "metadata": {},
   "outputs": [],
   "source": [
    "scores = []\n",
    "# Looping for each episode\n",
    "for e in range(1000):\n",
    "    # Initializes the state\n",
    "    current_state = reset1()\n",
    "    rewards = []\n",
    "    learning_rate = get_learning_rate(e)\n",
    "    epsilon = get_epsilon(e)\n",
    "            \n",
    "            \n",
    "    # Looping for each step\n",
    "    for j in range(running_time//time_interval):\n",
    "        # Choose A from S\n",
    "        action = choose_action(epsilon,current_state)\n",
    "        # Take action\n",
    "        obs = step2(action , list(current_state))\n",
    "        reward = rewardfun2(action,current_state)\n",
    "        rewards.append(reward)\n",
    "        new_state = obs\n",
    "        # Update Q(S,A)\n",
    "        Q_table2[current_state][action] += (learning_rate * \n",
    "                                        (reward \n",
    "                                         + discount * np.max(Q_table2[new_state]) \n",
    "                                         - Q_table2[current_state][action]))\n",
    "        current_state = new_state\n",
    "    \n",
    "    scores.append(sum(rewards))\n"
   ]
  },
  {
   "cell_type": "code",
   "execution_count": 111,
   "metadata": {},
   "outputs": [
    {
     "data": {
      "image/png": "[encoded data removed]",
      "text/plain": [
       "<Figure size 432x288 with 1 Axes>"
      ]
     },
     "metadata": {
      "needs_background": "light"
     },
     "output_type": "display_data"
    }
   ],
   "source": [
    "# Plot the policy performance\n",
    "fig = plt.figure()\n",
    "ax = fig.add_subplot(111)\n",
    "x = np.arange(1, len(scores) + 1)\n",
    "y = scores\n",
    "plt.scatter(x, y, marker='x', c=y)\n",
    "fit = np.polyfit(x, y, deg=4)\n",
    "p = np.poly1d(fit) \n",
    "plt.plot(x,p(x),\"r--\") \n",
    "plt.ylabel('Score')\n",
    "plt.xlabel('Episode #')\n",
    "plt.title(' performance on Wheel Rim ')\n",
    "plt.show()\n",
    "        "
   ]
  },
  {
   "cell_type": "code",
   "execution_count": 112,
   "metadata": {},
   "outputs": [],
   "source": [
    "optimal =[]\n",
    "current_state = reset1()\n",
    "\n",
    "for j in range(running_time//time_interval):\n",
    "    # Choose A from S\n",
    "    action = np.argmax(Q_table2[current_state])\n",
    "    if action==1:\n",
    "        optimal.append(current_state)\n",
    "    # Take action\n",
    "    obs = step2(action , list(current_state))\n",
    "    reward = rewardfun2(action,current_state)\n",
    "    current_state = obs"
   ]
  },
  {
   "cell_type": "code",
   "execution_count": 113,
   "metadata": {},
   "outputs": [
    {
     "data": {
      "text/plain": [
       "465"
      ]
     },
     "execution_count": 113,
     "metadata": {},
     "output_type": "execute_result"
    }
   ],
   "source": [
    "np.unique(optimal)[1]"
   ]
  },
  {
   "cell_type": "raw",
   "metadata": {},
   "source": []
  },
  {
   "cell_type": "markdown",
   "metadata": {},
   "source": [
    "optimal replacement time for coupling"
   ]
  },
  {
   "cell_type": "code",
   "execution_count": 114,
   "metadata": {},
   "outputs": [],
   "source": [
    "Q_table3 = np.zeros((100000 ,2) + (2,))\n"
   ]
  },
  {
   "cell_type": "code",
   "execution_count": 115,
   "metadata": {},
   "outputs": [],
   "source": [
    "def step3(action,st): \n",
    "    \n",
    "    f = random.weibullvariate(weibull_scale[3],weibull_shape[3])\n",
    "    if action == 0 :\n",
    "        if f < st[0]:\n",
    "            st[1]=1\n",
    "            st[0]=0\n",
    "        else:\n",
    "            st[1]=0 \n",
    "            st[0] +=5\n",
    "    if action ==1 :\n",
    "            st[0]=0\n",
    "            st[1]=0\n",
    "           \n",
    "    return tuple(st)\n",
    "                "
   ]
  },
  {
   "cell_type": "code",
   "execution_count": 116,
   "metadata": {},
   "outputs": [],
   "source": [
    "def rewardfun3(action,st) :\n",
    "    reward =[]\n",
    "\n",
    "    if action ==1 :\n",
    "        reward= -(time_interval / tp[3])*tp[3]    \n",
    "    if (st[1]==1 and action == 0):\n",
    "        reward= -(time_interval / tp[3])*time_interval * math.ceil(tf[3]/time_interval)\n",
    "    \n",
    "    if (st[1]==0 and action == 0):\n",
    "        reward = 5\n",
    "    return reward"
   ]
  },
  {
   "cell_type": "code",
   "execution_count": 117,
   "metadata": {},
   "outputs": [],
   "source": [
    "scores = []\n",
    "# Looping for each episode\n",
    "for e in range(1000):\n",
    "    # Initializes the state\n",
    "    current_state = reset1()\n",
    "    rewards = []\n",
    "    learning_rate = get_learning_rate(e)\n",
    "    epsilon = get_epsilon(e)\n",
    "            \n",
    "            \n",
    "    # Looping for each step\n",
    "    for j in range(running_time//time_interval):\n",
    "        # Choose A from S\n",
    "        action = choose_action(epsilon,current_state)\n",
    "        # Take action\n",
    "        obs = step3(action , list(current_state))\n",
    "        reward = rewardfun3(action,current_state)\n",
    "        rewards.append(reward)\n",
    "        new_state = obs\n",
    "        # Update Q(S,A)\n",
    "        Q_table3[current_state][action] += (learning_rate * \n",
    "                                        (reward \n",
    "                                         + discount * np.max(Q_table3[new_state]) \n",
    "                                         - Q_table3[current_state][action]))\n",
    "        current_state = new_state\n",
    "    \n",
    "    scores.append(sum(rewards))"
   ]
  },
  {
   "cell_type": "code",
   "execution_count": 118,
   "metadata": {},
   "outputs": [
    {
     "data": {
      "image/png": "[encoded data removed]",
      "text/plain": [
       "<Figure size 432x288 with 1 Axes>"
      ]
     },
     "metadata": {
      "needs_background": "light"
     },
     "output_type": "display_data"
    }
   ],
   "source": [
    "# Plot the policy performance\n",
    "fig = plt.figure()\n",
    "ax = fig.add_subplot(111)\n",
    "x = np.arange(1, len(scores) + 1)\n",
    "y = scores\n",
    "plt.scatter(x, y, marker='x', c=y)\n",
    "fit = np.polyfit(x, y, deg=4)\n",
    "p = np.poly1d(fit) \n",
    "plt.plot(x,p(x),\"r--\") \n",
    "plt.ylabel('Score')\n",
    "plt.xlabel('Episode #')\n",
    "plt.title(' performance on coupling ')\n",
    "plt.show()\n",
    "        "
   ]
  },
  {
   "cell_type": "code",
   "execution_count": 119,
   "metadata": {},
   "outputs": [],
   "source": [
    "optimal =[]\n",
    "current_state = reset1()\n",
    "\n",
    "for j in range(running_time//time_interval):\n",
    "    # Choose A from S\n",
    "    action = np.argmax(Q_table3[current_state])\n",
    "    if action==1:\n",
    "        optimal.append(current_state)\n",
    "    # Take action\n",
    "    obs = step3(action , list(current_state))\n",
    "    reward = rewardfun3(action,current_state)\n",
    "    current_state = obs"
   ]
  },
  {
   "cell_type": "code",
   "execution_count": 120,
   "metadata": {},
   "outputs": [
    {
     "data": {
      "text/plain": [
       "465"
      ]
     },
     "execution_count": 120,
     "metadata": {},
     "output_type": "execute_result"
    }
   ],
   "source": [
    "np.unique(optimal)[1]"
   ]
  },
  {
   "cell_type": "raw",
   "metadata": {},
   "source": []
  },
  {
   "cell_type": "markdown",
   "metadata": {},
   "source": [
    "optimal replacement time for motor"
   ]
  },
  {
   "cell_type": "code",
   "execution_count": 149,
   "metadata": {},
   "outputs": [],
   "source": [
    "Q_table4 = np.zeros((100000 ,2) + (2,))"
   ]
  },
  {
   "cell_type": "code",
   "execution_count": 150,
   "metadata": {},
   "outputs": [],
   "source": [
    "def step4(action,st): \n",
    "    \n",
    "    f = random.weibullvariate(weibull_scale[4],weibull_shape[4])\n",
    "    if action == 0 :\n",
    "        if f < st[0]:\n",
    "            st[1]=1\n",
    "            st[0]=0\n",
    "        else:\n",
    "            st[1]=0 \n",
    "            st[0] +=5\n",
    "    if action ==1 :\n",
    "            st[0]=0\n",
    "            st[1]=0\n",
    "           \n",
    "    return tuple(st)\n",
    "                "
   ]
  },
  {
   "cell_type": "code",
   "execution_count": 151,
   "metadata": {},
   "outputs": [],
   "source": [
    "def rewardfun4(action,st) :\n",
    "    reward =[]\n",
    "\n",
    "    if action ==1 :\n",
    "        reward= -(time_interval / tp[4])*tp[4]    \n",
    "    if (st[1]==1 and action == 0):\n",
    "        reward= -(time_interval / tp[4])*time_interval * math.ceil(tf[4]/time_interval)\n",
    "    \n",
    "    if (st[1]==0 and action == 0):\n",
    "        reward = 5\n",
    "    return reward"
   ]
  },
  {
   "cell_type": "code",
   "execution_count": 152,
   "metadata": {},
   "outputs": [],
   "source": [
    "scores = []\n",
    "# Looping for each episode\n",
    "for e in range(1000):\n",
    "    # Initializes the state\n",
    "    current_state = reset1()\n",
    "    rewards = []\n",
    "    learning_rate = get_learning_rate(e)\n",
    "    epsilon = get_epsilon(e)\n",
    "            \n",
    "            \n",
    "    # Looping for each step\n",
    "    for j in range(running_time//time_interval):\n",
    "        # Choose A from S\n",
    "        action = choose_action(epsilon,current_state)\n",
    "        # Take action\n",
    "        obs = step4(action , list(current_state))\n",
    "        reward = rewardfun4(action,current_state)\n",
    "        rewards.append(reward)\n",
    "        new_state = obs\n",
    "        # Update Q(S,A)\n",
    "        Q_table4[current_state][action] += (learning_rate * \n",
    "                                        (reward \n",
    "                                         + discount * np.max(Q_table4[new_state]) \n",
    "                                         - Q_table4[current_state][action]))\n",
    "        current_state = new_state\n",
    "    \n",
    "    scores.append(sum(rewards))"
   ]
  },
  {
   "cell_type": "code",
   "execution_count": 153,
   "metadata": {},
   "outputs": [
    {
     "data": {
      "image/png": "[encoded data removed]",
      "text/plain": [
       "<Figure size 432x288 with 1 Axes>"
      ]
     },
     "metadata": {
      "needs_background": "light"
     },
     "output_type": "display_data"
    }
   ],
   "source": [
    "# Plot the policy performance\n",
    "fig = plt.figure()\n",
    "ax = fig.add_subplot(111)\n",
    "x = np.arange(1, len(scores) + 1)\n",
    "y = scores\n",
    "plt.scatter(x, y, marker='x', c=y)\n",
    "fit = np.polyfit(x, y, deg=4)\n",
    "p = np.poly1d(fit) \n",
    "plt.plot(x,p(x),\"r--\") \n",
    "plt.ylabel('Score')\n",
    "plt.xlabel('Episode #')\n",
    "plt.title(' performance on Motor ')\n",
    "plt.show()"
   ]
  },
  {
   "cell_type": "code",
   "execution_count": 154,
   "metadata": {},
   "outputs": [],
   "source": [
    "optimal =[]\n",
    "current_state = reset1()\n",
    "\n",
    "for j in range(running_time//time_interval):\n",
    "    # Choose A from S\n",
    "    action = np.argmax(Q_table4[current_state])\n",
    "    if action==1:\n",
    "        optimal.append(current_state)\n",
    "    # Take action\n",
    "    obs = step4(action , list(current_state))\n",
    "    reward = rewardfun4(action,current_state)\n",
    "    current_state = obs"
   ]
  },
  {
   "cell_type": "code",
   "execution_count": 155,
   "metadata": {},
   "outputs": [
    {
     "data": {
      "text/plain": [
       "1"
      ]
     },
     "execution_count": 155,
     "metadata": {},
     "output_type": "execute_result"
    }
   ],
   "source": [
    "np.unique(optimal)[1]"
   ]
  },
  {
   "cell_type": "raw",
   "metadata": {},
   "source": []
  },
  {
   "cell_type": "markdown",
   "metadata": {},
   "source": [
    "optimal replacement time for brake"
   ]
  },
  {
   "cell_type": "code",
   "execution_count": 130,
   "metadata": {},
   "outputs": [],
   "source": [
    "Q_table5 = np.zeros((100000 ,2) + (2,))"
   ]
  },
  {
   "cell_type": "code",
   "execution_count": 131,
   "metadata": {},
   "outputs": [],
   "source": [
    "def step5(action,st): \n",
    "    \n",
    "    f = random.weibullvariate(weibull_scale[5],weibull_shape[5])\n",
    "    if action == 0 :\n",
    "        if f < st[0]:\n",
    "            st[1]=1\n",
    "            st[0]=0\n",
    "        else:\n",
    "            st[1]=0 \n",
    "            st[0] +=5\n",
    "    if action ==1 :\n",
    "            st[0]=0\n",
    "            st[1]=0\n",
    "           \n",
    "    return tuple(st)\n",
    "                "
   ]
  },
  {
   "cell_type": "code",
   "execution_count": 132,
   "metadata": {},
   "outputs": [],
   "source": [
    "def rewardfun5(action,st) :\n",
    "    reward =[]\n",
    "\n",
    "    if action ==1 :\n",
    "        reward= -(time_interval / tp[5])*tp[5]    \n",
    "    if (st[1]==1 and action == 0):\n",
    "        reward= -(time_interval / tp[5])*time_interval * math.ceil(tf[5]/time_interval)\n",
    "    \n",
    "    if (st[1]==0 and action == 0):\n",
    "        reward = 5\n",
    "    return reward"
   ]
  },
  {
   "cell_type": "code",
   "execution_count": 133,
   "metadata": {},
   "outputs": [],
   "source": [
    "scores = []\n",
    "# Looping for each episode\n",
    "for e in range(1000):\n",
    "    # Initializes the state\n",
    "    current_state = reset1()\n",
    "    rewards = []\n",
    "    learning_rate = get_learning_rate(e)\n",
    "    epsilon = get_epsilon(e)\n",
    "            \n",
    "            \n",
    "    # Looping for each step\n",
    "    for j in range(running_time//time_interval):\n",
    "        # Choose A from S\n",
    "        action = choose_action(epsilon,current_state)\n",
    "        # Take action\n",
    "        obs = step5(action , list(current_state))\n",
    "        reward = rewardfun5(action,current_state)\n",
    "        rewards.append(reward)\n",
    "        new_state = obs\n",
    "        # Update Q(S,A)\n",
    "        Q_table5[current_state][action] += (learning_rate * \n",
    "                                        (reward \n",
    "                                         + discount * np.max(Q_table5[new_state]) \n",
    "                                         - Q_table5[current_state][action]))\n",
    "        current_state = new_state\n",
    "    \n",
    "    scores.append(sum(rewards))"
   ]
  },
  {
   "cell_type": "code",
   "execution_count": 134,
   "metadata": {},
   "outputs": [
    {
     "data": {
      "image/png": "[encoded data removed]",
      "text/plain": [
       "<Figure size 432x288 with 1 Axes>"
      ]
     },
     "metadata": {
      "needs_background": "light"
     },
     "output_type": "display_data"
    }
   ],
   "source": [
    "# Plot the policy performance\n",
    "fig = plt.figure()\n",
    "ax = fig.add_subplot(111)\n",
    "x = np.arange(1, len(scores) + 1)\n",
    "y = scores\n",
    "plt.scatter(x, y, marker='x', c=y)\n",
    "fit = np.polyfit(x, y, deg=4)\n",
    "p = np.poly1d(fit) \n",
    "plt.plot(x,p(x),\"r--\") \n",
    "plt.ylabel('Score')\n",
    "plt.xlabel('Episode #')\n",
    "plt.title(' performance on brake ')\n",
    "plt.show()"
   ]
  },
  {
   "cell_type": "code",
   "execution_count": 135,
   "metadata": {},
   "outputs": [],
   "source": [
    "optimal =[]\n",
    "current_state = reset1()\n",
    "\n",
    "for j in range(running_time//time_interval):\n",
    "    # Choose A from S\n",
    "    action = np.argmax(Q_table5[current_state])\n",
    "    if action==1:\n",
    "        optimal.append(current_state)\n",
    "    # Take action\n",
    "    obs = step5(action , list(current_state))\n",
    "    reward = rewardfun5(action,current_state)\n",
    "    current_state = obs"
   ]
  },
  {
   "cell_type": "code",
   "execution_count": 136,
   "metadata": {},
   "outputs": [
    {
     "data": {
      "text/plain": [
       "465"
      ]
     },
     "execution_count": 136,
     "metadata": {},
     "output_type": "execute_result"
    }
   ],
   "source": [
    "np.unique(optimal)[1]"
   ]
  },
  {
   "cell_type": "raw",
   "metadata": {},
   "source": []
  },
  {
   "cell_type": "markdown",
   "metadata": {},
   "source": [
    "optimal replacement time for Steering Wheel"
   ]
  },
  {
   "cell_type": "code",
   "execution_count": 137,
   "metadata": {},
   "outputs": [],
   "source": [
    "Q_table6 = np.zeros((100000 ,2) + (2,))"
   ]
  },
  {
   "cell_type": "code",
   "execution_count": 138,
   "metadata": {},
   "outputs": [],
   "source": [
    "def step6(action,st): \n",
    "    \n",
    "    f = random.weibullvariate(weibull_scale[6],weibull_shape[6])\n",
    "    if action == 0 :\n",
    "        if f < st[0]:\n",
    "            st[1]=1\n",
    "            st[0]=0\n",
    "        else:\n",
    "            st[1]=0 \n",
    "            st[0] +=5\n",
    "    if action ==1 :\n",
    "            st[0]=0\n",
    "            st[1]=0\n",
    "           \n",
    "    return tuple(st)\n",
    "                "
   ]
  },
  {
   "cell_type": "code",
   "execution_count": 139,
   "metadata": {},
   "outputs": [],
   "source": [
    "def rewardfun6(action,st) :\n",
    "    reward =[]\n",
    "\n",
    "    if action ==1 :\n",
    "        reward= -(time_interval / tp[6])*tp[6]    \n",
    "    if (st[1]==1 and action == 0):\n",
    "        reward= -(time_interval / tp[6])*time_interval * math.ceil(tf[6]/time_interval)\n",
    "    \n",
    "    if (st[1]==0 and action == 0):\n",
    "        reward = 5\n",
    "    return reward"
   ]
  },
  {
   "cell_type": "code",
   "execution_count": 140,
   "metadata": {},
   "outputs": [],
   "source": [
    "scores = []\n",
    "# Looping for each episode\n",
    "for e in range(1000):\n",
    "    # Initializes the state\n",
    "    current_state = reset1()\n",
    "    rewards = []\n",
    "    learning_rate = get_learning_rate(e)\n",
    "    epsilon = get_epsilon(e)\n",
    "            \n",
    "            \n",
    "    # Looping for each step\n",
    "    for j in range(running_time//time_interval):\n",
    "        # Choose A from S\n",
    "        action = choose_action(epsilon,current_state)\n",
    "        # Take action\n",
    "        obs = step6(action , list(current_state))\n",
    "        reward = rewardfun6(action,current_state)\n",
    "        rewards.append(reward)\n",
    "        new_state = obs\n",
    "        # Update Q(S,A)\n",
    "        Q_table6[current_state][action] += (learning_rate * \n",
    "                                        (reward \n",
    "                                         + discount * np.max(Q_table6[new_state]) \n",
    "                                         - Q_table6[current_state][action]))\n",
    "        current_state = new_state\n",
    "    \n",
    "    scores.append(sum(rewards))"
   ]
  },
  {
   "cell_type": "code",
   "execution_count": 141,
   "metadata": {},
   "outputs": [
    {
     "data": {
      "image/png": "[encoded data removed]",
      "text/plain": [
       "<Figure size 432x288 with 1 Axes>"
      ]
     },
     "metadata": {
      "needs_background": "light"
     },
     "output_type": "display_data"
    }
   ],
   "source": [
    "# Plot the policy performance\n",
    "fig = plt.figure()\n",
    "ax = fig.add_subplot(111)\n",
    "x = np.arange(1, len(scores) + 1)\n",
    "y = scores\n",
    "plt.scatter(x, y, marker='x', c=y)\n",
    "fit = np.polyfit(x, y, deg=4)\n",
    "p = np.poly1d(fit) \n",
    "plt.plot(x,p(x),\"r--\") \n",
    "plt.ylabel('Score')\n",
    "plt.xlabel('Episode #')\n",
    "plt.title(' performance on Steering Wheel ')\n",
    "plt.show()"
   ]
  },
  {
   "cell_type": "code",
   "execution_count": 142,
   "metadata": {},
   "outputs": [
    {
     "data": {
      "text/plain": [
       "465"
      ]
     },
     "execution_count": 142,
     "metadata": {},
     "output_type": "execute_result"
    }
   ],
   "source": [
    "optimal =[]\n",
    "current_state = reset1()\n",
    "\n",
    "for j in range(running_time//time_interval):\n",
    "    # Choose A from S\n",
    "    action = np.argmax(Q_table6[current_state])\n",
    "    if action==1:\n",
    "        optimal.append(current_state)\n",
    "    # Take action\n",
    "    obs = step6(action , list(current_state))\n",
    "    reward = rewardfun6(action,current_state)\n",
    "    current_state = obs\n",
    "    \n",
    "np.unique(optimal)[1]"
   ]
  },
  {
   "cell_type": "raw",
   "metadata": {},
   "source": []
  },
  {
   "cell_type": "markdown",
   "metadata": {},
   "source": [
    "optimal replacement time for shifting gears"
   ]
  },
  {
   "cell_type": "code",
   "execution_count": 143,
   "metadata": {},
   "outputs": [],
   "source": [
    "Q_table7 = np.zeros((100000 ,2) + (2,))"
   ]
  },
  {
   "cell_type": "code",
   "execution_count": 144,
   "metadata": {},
   "outputs": [],
   "source": [
    "def step7(action,st): \n",
    "    \n",
    "    f = random.weibullvariate(weibull_scale[7],weibull_shape[7])\n",
    "    if action == 0 :\n",
    "        if f < st[0]:\n",
    "            st[1]=1\n",
    "            st[0]=0\n",
    "        else:\n",
    "            st[1]=0 \n",
    "            st[0] +=5\n",
    "    if action ==1 :\n",
    "            st[0]=0\n",
    "            st[1]=0\n",
    "           \n",
    "    return tuple(st)\n",
    "                "
   ]
  },
  {
   "cell_type": "code",
   "execution_count": 145,
   "metadata": {},
   "outputs": [],
   "source": [
    "def rewardfun7(action,st) :\n",
    "    reward =[]\n",
    "\n",
    "    if action ==1 :\n",
    "        reward= -(time_interval / tp[7])*tp[7]    \n",
    "    if (st[1]==1 and action == 0):\n",
    "        reward= -(time_interval / tp[7])*time_interval * math.ceil(tf[7]/time_interval)\n",
    "    \n",
    "    if (st[1]==0 and action == 0):\n",
    "        reward = 5\n",
    "    return reward"
   ]
  },
  {
   "cell_type": "code",
   "execution_count": 146,
   "metadata": {},
   "outputs": [],
   "source": [
    "scores = []\n",
    "# Looping for each episode\n",
    "for e in range(1000):\n",
    "    # Initializes the state\n",
    "    current_state = reset1()\n",
    "    rewards = []\n",
    "    learning_rate = get_learning_rate(e)\n",
    "    epsilon = get_epsilon(e)\n",
    "            \n",
    "            \n",
    "    # Looping for each step\n",
    "    for j in range(running_time//time_interval):\n",
    "        # Choose A from S\n",
    "        action = choose_action(epsilon,current_state)\n",
    "        # Take action\n",
    "        obs = step7(action , list(current_state))\n",
    "        reward = rewardfun7(action,current_state)\n",
    "        rewards.append(reward)\n",
    "        new_state = obs\n",
    "        # Update Q(S,A)\n",
    "        Q_table7[current_state][action] += (learning_rate * \n",
    "                                        (reward \n",
    "                                         + discount * np.max(Q_table7[new_state]) \n",
    "                                         - Q_table7[current_state][action]))\n",
    "        current_state = new_state\n",
    "    \n",
    "    scores.append(sum(rewards))"
   ]
  },
  {
   "cell_type": "code",
   "execution_count": 147,
   "metadata": {},
   "outputs": [
    {
     "data": {
      "image/png": "[encoded data removed]",
      "text/plain": [
       "<Figure size 432x288 with 1 Axes>"
      ]
     },
     "metadata": {
      "needs_background": "light"
     },
     "output_type": "display_data"
    }
   ],
   "source": [
    "# Plot the policy performance\n",
    "fig = plt.figure()\n",
    "ax = fig.add_subplot(111)\n",
    "x = np.arange(1, len(scores) + 1)\n",
    "y = scores\n",
    "plt.scatter(x, y, marker='x', c=y)\n",
    "fit = np.polyfit(x, y, deg=4)\n",
    "p = np.poly1d(fit) \n",
    "plt.plot(x,p(x),\"r--\") \n",
    "plt.ylabel('Score')\n",
    "plt.xlabel('Episode #')\n",
    "plt.title(' performance on Shifting Gears ')\n",
    "plt.show()"
   ]
  },
  {
   "cell_type": "code",
   "execution_count": 148,
   "metadata": {},
   "outputs": [
    {
     "data": {
      "text/plain": [
       "465"
      ]
     },
     "execution_count": 148,
     "metadata": {},
     "output_type": "execute_result"
    }
   ],
   "source": [
    "optimal =[]\n",
    "current_state = reset1()\n",
    "\n",
    "for j in range(running_time//time_interval):\n",
    "    # Choose A from S\n",
    "    action = np.argmax(Q_table7[current_state])\n",
    "    if action==1:\n",
    "        optimal.append(current_state)\n",
    "    # Take action\n",
    "    obs = step7(action , list(current_state))\n",
    "    reward = rewardfun7(action,current_state)\n",
    "    current_state = obs\n",
    "    \n",
    "np.unique(optimal)[1]"
   ]
  },
  {
   "cell_type": "raw",
   "metadata": {},
   "source": []
  },
  {
   "cell_type": "markdown",
   "metadata": {},
   "source": [
    "downtime for it"
   ]
  },
  {
   "cell_type": "code",
   "execution_count": 1,
   "metadata": {},
   "outputs": [],
   "source": [
    "optimal_replace= [460,465,465,465,1,465,465,465]"
   ]
  },
  {
   "cell_type": "code",
   "execution_count": 2,
   "metadata": {},
   "outputs": [],
   "source": [
    "import numpy as np\n",
    "import random\n",
    "def simulationpolicy2(tf=(2,6.5,2.5,6,5,3.5,3,3.5),time_interval=5,\n",
    "                      weibull_scale=(2365.08,996.88,713.55,1406.84,343.76,3933.12,828.19,2040.95),\n",
    "                     weibull_shape=(414.16,109.25,79.81,115.21,169.81,143.60,43.83,296.48),\n",
    "                     running_time=100000,\n",
    "                     optimal_replace=(460,465,465,465,1,465,465,465),\n",
    "                     tp=(0.4,5.42,0.625,0.857,1.25,0.7,0.429,0.875)):\n",
    "    age= np.zeros(8)\n",
    "    downtime=np.zeros(1)\n",
    "    num_failed=[]\n",
    "    num_replace=[]\n",
    "    for i in range(running_time//time_interval): \n",
    "        for a in range(8):\n",
    "            random_timefailure = random.weibullvariate(weibull_scale[a],weibull_shape[a])\n",
    "            if (random_timefailure > age[a] and optimal_replace[a] > age[a]) :\n",
    "                age[a] +=time_interval\n",
    "                \n",
    "            if (random_timefailure < age[a] and optimal_replace[a] > age[a]) :\n",
    "                age[a] = 0\n",
    "                downtime += tf[a]\n",
    "                num_failed.append(1)\n",
    "            \n",
    "            if (random_timefailure > age[a] and optimal_replace[a] < age[a]) : \n",
    "                age[a] = 0\n",
    "                downtime += tp[a]\n",
    "                num_replace.append(1) \n",
    "             \n",
    "            if (random_timefailure < age[a] and optimal_replace[a] < age[a]) :\n",
    "                if (random_timefailure > optimal_replace[a]) :\n",
    "                    age[a] = 0\n",
    "                    downtime += tp[a]\n",
    "                    num_replace.append(1)\n",
    "                else:\n",
    "                    age[a] = 0\n",
    "                    downtime += tf[a]\n",
    "                    num_failed.append(1)\n",
    "                    \n",
    "    return print(\"downtime=\",downtime,\n",
    "                 \"number of failure=\",sum(num_failed),\n",
    "                 \"number of replaced=\",sum(num_replace))              \n",
    "                \n",
    "            "
   ]
  },
  {
   "cell_type": "code",
   "execution_count": 3,
   "metadata": {},
   "outputs": [
    {
     "name": "stdout",
     "output_type": "stream",
     "text": [
      "downtime= [25000.] number of failure= 0 number of replaced= 20000\n"
     ]
    }
   ],
   "source": [
    "simulationpolicy2()"
   ]
  },
  {
   "cell_type": "code",
   "execution_count": null,
   "metadata": {},
   "outputs": [],
   "source": []
  }
 ],
 "metadata": {
  "kernelspec": {
   "display_name": "Python 3",
   "language": "python",
   "name": "python3"
  },
  "language_info": {
   "codemirror_mode": {
    "name": "ipython",
    "version": 3
   },
   "file_extension": ".py",
   "mimetype": "text/x-python",
   "name": "python",
   "nbconvert_exporter": "python",
   "pygments_lexer": "ipython3",
   "version": "3.7.3"
  }
 },
 "nbformat": 4,
 "nbformat_minor": 5
}
